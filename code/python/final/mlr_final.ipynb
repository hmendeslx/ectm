{
 "cells": [
  {
   "cell_type": "markdown",
   "metadata": {},
   "source": [
    "# Importing the libraries"
   ]
  },
  {
   "cell_type": "code",
   "execution_count": 1,
   "metadata": {},
   "outputs": [],
   "source": [
    "import numpy as np\n",
    "import matplotlib.pyplot as plt\n",
    "import pandas as pd\n",
    "from sklearn.preprocessing import LabelEncoder, OneHotEncoder\n",
    "from sklearn.linear_model import LinearRegression\n",
    "import pickle\n",
    "import csv\n",
    "import generate_final_data"
   ]
  },
  {
   "cell_type": "markdown",
   "metadata": {},
   "source": [
    "# Importing the dataset"
   ]
  },
  {
   "cell_type": "code",
   "execution_count": 2,
   "metadata": {},
   "outputs": [
    {
     "data": {
      "text/html": [
       "<div>\n",
       "<style scoped>\n",
       "    .dataframe tbody tr th:only-of-type {\n",
       "        vertical-align: middle;\n",
       "    }\n",
       "\n",
       "    .dataframe tbody tr th {\n",
       "        vertical-align: top;\n",
       "    }\n",
       "\n",
       "    .dataframe thead th {\n",
       "        text-align: right;\n",
       "    }\n",
       "</style>\n",
       "<table border=\"1\" class=\"dataframe\">\n",
       "  <thead>\n",
       "    <tr style=\"text-align: right;\">\n",
       "      <th></th>\n",
       "      <th>engine</th>\n",
       "      <th>month</th>\n",
       "      <th>air_temp</th>\n",
       "      <th>noise</th>\n",
       "      <th>epr</th>\n",
       "      <th>egt</th>\n",
       "      <th>ff</th>\n",
       "      <th>n1</th>\n",
       "      <th>n2</th>\n",
       "      <th>fp_noise</th>\n",
       "      <th>fp_epr</th>\n",
       "      <th>fp_egt</th>\n",
       "      <th>fp_ff</th>\n",
       "      <th>fp_n1</th>\n",
       "      <th>fp_n2</th>\n",
       "      <th>failure_prob</th>\n",
       "    </tr>\n",
       "  </thead>\n",
       "  <tbody>\n",
       "    <tr>\n",
       "      <th>0</th>\n",
       "      <td>1</td>\n",
       "      <td>1</td>\n",
       "      <td>0</td>\n",
       "      <td>130</td>\n",
       "      <td>50</td>\n",
       "      <td>1300</td>\n",
       "      <td>5000</td>\n",
       "      <td>12000</td>\n",
       "      <td>10000</td>\n",
       "      <td>0</td>\n",
       "      <td>0</td>\n",
       "      <td>NaN</td>\n",
       "      <td>NaN</td>\n",
       "      <td>NaN</td>\n",
       "      <td>NaN</td>\n",
       "      <td>NaN</td>\n",
       "    </tr>\n",
       "    <tr>\n",
       "      <th>1</th>\n",
       "      <td>1</td>\n",
       "      <td>2</td>\n",
       "      <td>-14</td>\n",
       "      <td>130</td>\n",
       "      <td>50</td>\n",
       "      <td>1518</td>\n",
       "      <td>5212</td>\n",
       "      <td>12550</td>\n",
       "      <td>10559</td>\n",
       "      <td>0</td>\n",
       "      <td>0</td>\n",
       "      <td>NaN</td>\n",
       "      <td>NaN</td>\n",
       "      <td>NaN</td>\n",
       "      <td>NaN</td>\n",
       "      <td>NaN</td>\n",
       "    </tr>\n",
       "    <tr>\n",
       "      <th>2</th>\n",
       "      <td>1</td>\n",
       "      <td>3</td>\n",
       "      <td>-7</td>\n",
       "      <td>131</td>\n",
       "      <td>50</td>\n",
       "      <td>1522</td>\n",
       "      <td>5222</td>\n",
       "      <td>12597</td>\n",
       "      <td>10601</td>\n",
       "      <td>0</td>\n",
       "      <td>0</td>\n",
       "      <td>NaN</td>\n",
       "      <td>NaN</td>\n",
       "      <td>NaN</td>\n",
       "      <td>NaN</td>\n",
       "      <td>NaN</td>\n",
       "    </tr>\n",
       "    <tr>\n",
       "      <th>3</th>\n",
       "      <td>1</td>\n",
       "      <td>4</td>\n",
       "      <td>-5</td>\n",
       "      <td>131</td>\n",
       "      <td>50</td>\n",
       "      <td>1541</td>\n",
       "      <td>5233</td>\n",
       "      <td>12610</td>\n",
       "      <td>10636</td>\n",
       "      <td>0</td>\n",
       "      <td>0</td>\n",
       "      <td>NaN</td>\n",
       "      <td>NaN</td>\n",
       "      <td>NaN</td>\n",
       "      <td>NaN</td>\n",
       "      <td>NaN</td>\n",
       "    </tr>\n",
       "    <tr>\n",
       "      <th>4</th>\n",
       "      <td>1</td>\n",
       "      <td>5</td>\n",
       "      <td>0</td>\n",
       "      <td>132</td>\n",
       "      <td>50</td>\n",
       "      <td>1546</td>\n",
       "      <td>5238</td>\n",
       "      <td>12656</td>\n",
       "      <td>10658</td>\n",
       "      <td>0</td>\n",
       "      <td>0</td>\n",
       "      <td>NaN</td>\n",
       "      <td>NaN</td>\n",
       "      <td>NaN</td>\n",
       "      <td>NaN</td>\n",
       "      <td>NaN</td>\n",
       "    </tr>\n",
       "    <tr>\n",
       "      <th>55</th>\n",
       "      <td>1</td>\n",
       "      <td>56</td>\n",
       "      <td>-6</td>\n",
       "      <td>152</td>\n",
       "      <td>51</td>\n",
       "      <td>2107</td>\n",
       "      <td>5697</td>\n",
       "      <td>14440</td>\n",
       "      <td>12443</td>\n",
       "      <td>100</td>\n",
       "      <td>100</td>\n",
       "      <td>NaN</td>\n",
       "      <td>NaN</td>\n",
       "      <td>NaN</td>\n",
       "      <td>NaN</td>\n",
       "      <td>NaN</td>\n",
       "    </tr>\n",
       "    <tr>\n",
       "      <th>56</th>\n",
       "      <td>1</td>\n",
       "      <td>57</td>\n",
       "      <td>-5</td>\n",
       "      <td>152</td>\n",
       "      <td>49</td>\n",
       "      <td>2124</td>\n",
       "      <td>5708</td>\n",
       "      <td>14482</td>\n",
       "      <td>12491</td>\n",
       "      <td>100</td>\n",
       "      <td>100</td>\n",
       "      <td>NaN</td>\n",
       "      <td>NaN</td>\n",
       "      <td>NaN</td>\n",
       "      <td>NaN</td>\n",
       "      <td>NaN</td>\n",
       "    </tr>\n",
       "    <tr>\n",
       "      <th>57</th>\n",
       "      <td>1</td>\n",
       "      <td>58</td>\n",
       "      <td>-6</td>\n",
       "      <td>153</td>\n",
       "      <td>49</td>\n",
       "      <td>2130</td>\n",
       "      <td>5715</td>\n",
       "      <td>14519</td>\n",
       "      <td>12521</td>\n",
       "      <td>100</td>\n",
       "      <td>100</td>\n",
       "      <td>NaN</td>\n",
       "      <td>NaN</td>\n",
       "      <td>NaN</td>\n",
       "      <td>NaN</td>\n",
       "      <td>NaN</td>\n",
       "    </tr>\n",
       "    <tr>\n",
       "      <th>58</th>\n",
       "      <td>1</td>\n",
       "      <td>59</td>\n",
       "      <td>-15</td>\n",
       "      <td>153</td>\n",
       "      <td>49</td>\n",
       "      <td>2147</td>\n",
       "      <td>5730</td>\n",
       "      <td>14555</td>\n",
       "      <td>12560</td>\n",
       "      <td>100</td>\n",
       "      <td>100</td>\n",
       "      <td>NaN</td>\n",
       "      <td>NaN</td>\n",
       "      <td>NaN</td>\n",
       "      <td>NaN</td>\n",
       "      <td>NaN</td>\n",
       "    </tr>\n",
       "    <tr>\n",
       "      <th>59</th>\n",
       "      <td>1</td>\n",
       "      <td>60</td>\n",
       "      <td>0</td>\n",
       "      <td>154</td>\n",
       "      <td>52</td>\n",
       "      <td>2152</td>\n",
       "      <td>5735</td>\n",
       "      <td>14583</td>\n",
       "      <td>12582</td>\n",
       "      <td>100</td>\n",
       "      <td>100</td>\n",
       "      <td>NaN</td>\n",
       "      <td>NaN</td>\n",
       "      <td>NaN</td>\n",
       "      <td>NaN</td>\n",
       "      <td>NaN</td>\n",
       "    </tr>\n",
       "  </tbody>\n",
       "</table>\n",
       "</div>"
      ],
      "text/plain": [
       "    engine  month  air_temp  noise  epr   egt    ff     n1     n2  fp_noise  \\\n",
       "0        1      1         0    130   50  1300  5000  12000  10000         0   \n",
       "1        1      2       -14    130   50  1518  5212  12550  10559         0   \n",
       "2        1      3        -7    131   50  1522  5222  12597  10601         0   \n",
       "3        1      4        -5    131   50  1541  5233  12610  10636         0   \n",
       "4        1      5         0    132   50  1546  5238  12656  10658         0   \n",
       "55       1     56        -6    152   51  2107  5697  14440  12443       100   \n",
       "56       1     57        -5    152   49  2124  5708  14482  12491       100   \n",
       "57       1     58        -6    153   49  2130  5715  14519  12521       100   \n",
       "58       1     59       -15    153   49  2147  5730  14555  12560       100   \n",
       "59       1     60         0    154   52  2152  5735  14583  12582       100   \n",
       "\n",
       "    fp_epr  fp_egt  fp_ff  fp_n1  fp_n2  failure_prob  \n",
       "0        0     NaN    NaN    NaN    NaN           NaN  \n",
       "1        0     NaN    NaN    NaN    NaN           NaN  \n",
       "2        0     NaN    NaN    NaN    NaN           NaN  \n",
       "3        0     NaN    NaN    NaN    NaN           NaN  \n",
       "4        0     NaN    NaN    NaN    NaN           NaN  \n",
       "55     100     NaN    NaN    NaN    NaN           NaN  \n",
       "56     100     NaN    NaN    NaN    NaN           NaN  \n",
       "57     100     NaN    NaN    NaN    NaN           NaN  \n",
       "58     100     NaN    NaN    NaN    NaN           NaN  \n",
       "59     100     NaN    NaN    NaN    NaN           NaN  "
      ]
     },
     "execution_count": 2,
     "metadata": {},
     "output_type": "execute_result"
    }
   ],
   "source": [
    "dataset = pd.read_csv('../../data/engine_final.csv')\n",
    "dataset.head().append(dataset.tail())"
   ]
  },
  {
   "cell_type": "markdown",
   "metadata": {},
   "source": [
    "# Predicting Fan Blade's Life Span"
   ]
  },
  {
   "cell_type": "code",
   "execution_count": 3,
   "metadata": {},
   "outputs": [],
   "source": [
    "X_noise_data = dataset.iloc[:, 3:4]\n",
    "X_noise = X_noise_data.values\n",
    "\n",
    "# Loading and fitting the regression model\n",
    "with open('slr_noise.pkl', 'rb') as f:\n",
    "    regressor = pickle.load(f)\n",
    "\n",
    "# Predicting the results\n",
    "y_pred_noise = regressor.predict(X_noise)\n",
    "y_pred_noise[y_pred_noise > 100] = 100\n",
    "y_pred_noise[y_pred_noise < 0] = 0\n",
    "\n",
    "dataset['fp_noise'] = list(y_pred_noise.astype(int).ravel())"
   ]
  },
  {
   "cell_type": "markdown",
   "metadata": {},
   "source": [
    "# Predicting Turbine's Life Span"
   ]
  },
  {
   "cell_type": "code",
   "execution_count": 4,
   "metadata": {},
   "outputs": [],
   "source": [
    "X_egt_data = dataset.loc[:, ['egt']]\n",
    "X_egt = X_egt_data.values\n",
    "\n",
    "# Loading and fitting the regression model\n",
    "with open('slr_egt.pkl', 'rb') as f:\n",
    "    regressor = pickle.load(f)\n",
    "\n",
    "# Predicting the results\n",
    "y_pred_egt = regressor.predict(X_egt)\n",
    "y_pred_egt[y_pred_egt > 100] = 100\n",
    "y_pred_egt[y_pred_egt < 0] = 0\n",
    "\n",
    "dataset['fp_egt'] = list(y_pred_egt.astype(int).ravel())"
   ]
  },
  {
   "cell_type": "markdown",
   "metadata": {},
   "source": [
    "# Predicting Fuel Filter's Life Span"
   ]
  },
  {
   "cell_type": "code",
   "execution_count": 5,
   "metadata": {},
   "outputs": [],
   "source": [
    "X_ff_data = dataset.loc[:, ['ff']]\n",
    "X_ff = X_ff_data.values\n",
    "\n",
    "# Loading and fitting the regression model\n",
    "with open('slr_ff.pkl', 'rb') as f:\n",
    "    regressor = pickle.load(f)\n",
    "\n",
    "# Predicting the results\n",
    "y_pred_ff = regressor.predict(X_ff)\n",
    "y_pred_ff[y_pred_ff > 100] = 100\n",
    "y_pred_ff[y_pred_ff < 0] = 0\n",
    "\n",
    "dataset['fp_ff'] = list(y_pred_ff.astype(int).ravel())"
   ]
  },
  {
   "cell_type": "markdown",
   "metadata": {},
   "source": [
    "# Predicting Low Pressure Fan's (N1) Life Span"
   ]
  },
  {
   "cell_type": "code",
   "execution_count": 6,
   "metadata": {},
   "outputs": [],
   "source": [
    "X_n1_data = dataset.loc[:, ['n1']]\n",
    "X_n1 = X_n1_data.values\n",
    "\n",
    "# Loading and fitting the regression model\n",
    "with open('slr_n1.pkl', 'rb') as f:\n",
    "    regressor = pickle.load(f)\n",
    "\n",
    "# Predicting the results\n",
    "y_pred_n1 = regressor.predict(X_n1)\n",
    "y_pred_n1[y_pred_n1 > 100] = 100\n",
    "y_pred_n1[y_pred_n1 < 0] = 0\n",
    "\n",
    "dataset['fp_n1'] = list(y_pred_n1.astype(int).ravel())"
   ]
  },
  {
   "cell_type": "markdown",
   "metadata": {},
   "source": [
    "# Predicting High Pressure Rotor's (N2) Life Span"
   ]
  },
  {
   "cell_type": "code",
   "execution_count": 7,
   "metadata": {},
   "outputs": [],
   "source": [
    "X_n2_data = dataset.loc[:, ['n2']]\n",
    "X_n2 = X_n2_data.values\n",
    "\n",
    "# Loading and fitting the regression model\n",
    "with open('slr_n2.pkl', 'rb') as f:\n",
    "    regressor = pickle.load(f)\n",
    "\n",
    "# Predicting the results\n",
    "y_pred_n2 = regressor.predict(X_n2)\n",
    "y_pred_n2[y_pred_n2 > 100] = 100\n",
    "y_pred_n2[y_pred_n2 < 0] = 0\n",
    "\n",
    "dataset['fp_n2'] = list(y_pred_n2.astype(int).ravel())"
   ]
  },
  {
   "cell_type": "markdown",
   "metadata": {},
   "source": [
    "# Predicting Overall Engine's Probability of Failure"
   ]
  },
  {
   "cell_type": "code",
   "execution_count": 8,
   "metadata": {},
   "outputs": [],
   "source": [
    "X_data = dataset.iloc[:, 1:15]\n",
    "X = X_data.values\n",
    "\n",
    "# Encoding categorical data\n",
    "labelencoder_X = LabelEncoder()\n",
    "X[:, 0] = labelencoder_X.fit_transform(X[:, 0])\n",
    "onehotencoder = OneHotEncoder(categorical_features = [0])\n",
    "X = onehotencoder.fit_transform(X).toarray()\n",
    "\n",
    "# Avoiding dummy variable trap\n",
    "categories = [0]\n",
    "dummies = []\n",
    "dummies_sum = 0\n",
    "\n",
    "for category in categories:\n",
    "    dummies_sum += (dataset.iloc[:, category].unique().size) * category\n",
    "    dummies.append(dummies_sum)\n",
    "\n",
    "X = np.delete(X, dummies, 1)\n",
    "\n",
    "# Loading and fitting the regression model\n",
    "with open('mlr_all.pkl', 'rb') as f:\n",
    "    regressor = pickle.load(f)\n",
    "    \n",
    "# Predicting the results\n",
    "y_pred = regressor.predict(X)\n",
    "y_pred[y_pred > 100] = 100\n",
    "y_pred[y_pred < 0] = 0\n",
    "\n",
    "dataset['failure_prob'] = list(y_pred.astype(int).ravel())"
   ]
  },
  {
   "cell_type": "markdown",
   "metadata": {},
   "source": [
    "# Writing the predictions to CSV file"
   ]
  },
  {
   "cell_type": "code",
   "execution_count": 9,
   "metadata": {},
   "outputs": [],
   "source": [
    "dataset.to_csv('../../data/engine_final.csv', index=False)"
   ]
  },
  {
   "cell_type": "markdown",
   "metadata": {},
   "source": [
    "# Importing Dataset with values under normal conditions"
   ]
  },
  {
   "cell_type": "code",
   "execution_count": 10,
   "metadata": {},
   "outputs": [],
   "source": [
    "normal_dataset = pd.read_csv('../../data/engine_data_normal_final.csv')\n",
    "X_normal = normal_dataset\n",
    "y_normal = normal_dataset.loc[:, 'failure_prob'].values\n",
    "y_normal = y_normal / 100\n",
    "y_normal[y_normal > 1] = 1"
   ]
  },
  {
   "cell_type": "code",
   "execution_count": 11,
   "metadata": {},
   "outputs": [],
   "source": [
    "# Converting probability from 0-100 to 0-1\n",
    "\n",
    "y_pred = y_pred / 100"
   ]
  },
  {
   "cell_type": "markdown",
   "metadata": {},
   "source": [
    "# Plotting Graph"
   ]
  },
  {
   "cell_type": "code",
   "execution_count": 12,
   "metadata": {},
   "outputs": [
    {
     "ename": "IndexError",
     "evalue": "index 0 is out of bounds for axis 0 with size 0",
     "output_type": "error",
     "traceback": [
      "\u001b[0;31m---------------------------------------------------------------------------\u001b[0m",
      "\u001b[0;31mIndexError\u001b[0m                                Traceback (most recent call last)",
      "\u001b[0;32m<ipython-input-12-8888756ba427>\u001b[0m in \u001b[0;36m<module>\u001b[0;34m()\u001b[0m\n\u001b[1;32m      2\u001b[0m \u001b[0mplt\u001b[0m\u001b[0;34m.\u001b[0m\u001b[0mplot\u001b[0m\u001b[0;34m(\u001b[0m\u001b[0mX_data\u001b[0m\u001b[0;34m[\u001b[0m\u001b[0;34m'month'\u001b[0m\u001b[0;34m]\u001b[0m\u001b[0;34m[\u001b[0m\u001b[0;36m0\u001b[0m\u001b[0;34m:\u001b[0m\u001b[0;36m60\u001b[0m\u001b[0;34m]\u001b[0m\u001b[0;34m,\u001b[0m \u001b[0my_pred\u001b[0m\u001b[0;34m.\u001b[0m\u001b[0mravel\u001b[0m\u001b[0;34m(\u001b[0m\u001b[0;34m)\u001b[0m\u001b[0;34m[\u001b[0m\u001b[0;36m0\u001b[0m\u001b[0;34m:\u001b[0m\u001b[0;36m60\u001b[0m\u001b[0;34m]\u001b[0m\u001b[0;34m,\u001b[0m \u001b[0mcolor\u001b[0m \u001b[0;34m=\u001b[0m \u001b[0;34m'blue'\u001b[0m\u001b[0;34m,\u001b[0m \u001b[0mlinestyle\u001b[0m\u001b[0;34m=\u001b[0m\u001b[0;34m'-'\u001b[0m\u001b[0;34m,\u001b[0m \u001b[0mmarker\u001b[0m\u001b[0;34m=\u001b[0m\u001b[0;34m'.'\u001b[0m\u001b[0;34m,\u001b[0m \u001b[0mlabel\u001b[0m\u001b[0;34m=\u001b[0m\u001b[0;34m'Predicted Life Span'\u001b[0m\u001b[0;34m)\u001b[0m\u001b[0;34m\u001b[0m\u001b[0m\n\u001b[1;32m      3\u001b[0m \u001b[0mplt\u001b[0m\u001b[0;34m.\u001b[0m\u001b[0maxvline\u001b[0m\u001b[0;34m(\u001b[0m\u001b[0mx\u001b[0m\u001b[0;34m=\u001b[0m\u001b[0mnp\u001b[0m\u001b[0;34m.\u001b[0m\u001b[0mwhere\u001b[0m\u001b[0;34m(\u001b[0m\u001b[0my_normal\u001b[0m\u001b[0;34m==\u001b[0m\u001b[0;36m1\u001b[0m\u001b[0;34m)\u001b[0m\u001b[0;34m[\u001b[0m\u001b[0;36m0\u001b[0m\u001b[0;34m]\u001b[0m\u001b[0;34m[\u001b[0m\u001b[0;36m0\u001b[0m\u001b[0;34m]\u001b[0m\u001b[0;34m,\u001b[0m \u001b[0mcolor\u001b[0m\u001b[0;34m=\u001b[0m\u001b[0;34m'orange'\u001b[0m\u001b[0;34m,\u001b[0m \u001b[0mlabel\u001b[0m\u001b[0;34m=\u001b[0m\u001b[0;34m'Actual month of failure'\u001b[0m\u001b[0;34m)\u001b[0m\u001b[0;34m\u001b[0m\u001b[0m\n\u001b[0;32m----> 4\u001b[0;31m \u001b[0mplt\u001b[0m\u001b[0;34m.\u001b[0m\u001b[0maxvline\u001b[0m\u001b[0;34m(\u001b[0m\u001b[0mx\u001b[0m\u001b[0;34m=\u001b[0m\u001b[0mnp\u001b[0m\u001b[0;34m.\u001b[0m\u001b[0mwhere\u001b[0m\u001b[0;34m(\u001b[0m\u001b[0my_pred\u001b[0m\u001b[0;34m>\u001b[0m\u001b[0;36m0.99\u001b[0m\u001b[0;34m)\u001b[0m\u001b[0;34m[\u001b[0m\u001b[0;36m0\u001b[0m\u001b[0;34m]\u001b[0m\u001b[0;34m[\u001b[0m\u001b[0;36m0\u001b[0m\u001b[0;34m]\u001b[0m\u001b[0;34m,\u001b[0m \u001b[0mcolor\u001b[0m\u001b[0;34m=\u001b[0m\u001b[0;34m'red'\u001b[0m\u001b[0;34m,\u001b[0m \u001b[0mlabel\u001b[0m\u001b[0;34m=\u001b[0m\u001b[0;34m'Predicted month of failure'\u001b[0m\u001b[0;34m)\u001b[0m\u001b[0;34m\u001b[0m\u001b[0m\n\u001b[0m\u001b[1;32m      5\u001b[0m \u001b[0mplt\u001b[0m\u001b[0;34m.\u001b[0m\u001b[0mxticks\u001b[0m\u001b[0;34m(\u001b[0m\u001b[0mnp\u001b[0m\u001b[0;34m.\u001b[0m\u001b[0marange\u001b[0m\u001b[0;34m(\u001b[0m\u001b[0;36m0\u001b[0m\u001b[0;34m,\u001b[0m \u001b[0;36m61\u001b[0m\u001b[0;34m,\u001b[0m \u001b[0;36m3\u001b[0m\u001b[0;34m)\u001b[0m\u001b[0;34m)\u001b[0m\u001b[0;34m\u001b[0m\u001b[0m\n\u001b[1;32m      6\u001b[0m \u001b[0mplt\u001b[0m\u001b[0;34m.\u001b[0m\u001b[0myticks\u001b[0m\u001b[0;34m(\u001b[0m\u001b[0mnp\u001b[0m\u001b[0;34m.\u001b[0m\u001b[0marange\u001b[0m\u001b[0;34m(\u001b[0m\u001b[0;36m0\u001b[0m\u001b[0;34m,\u001b[0m \u001b[0;36m1.05\u001b[0m\u001b[0;34m,\u001b[0m \u001b[0;36m0.1\u001b[0m\u001b[0;34m)\u001b[0m\u001b[0;34m)\u001b[0m\u001b[0;34m\u001b[0m\u001b[0m\n",
      "\u001b[0;31mIndexError\u001b[0m: index 0 is out of bounds for axis 0 with size 0"
     ]
    },
    {
     "data": {
      "image/png": "[encoded data removed]",
      "text/plain": [
       "<Figure size 432x288 with 1 Axes>"
      ]
     },
     "metadata": {},
     "output_type": "display_data"
    }
   ],
   "source": [
    "plt.plot(X_data['month'][0:60], y_normal[0:60], color = 'green', linestyle='-', marker='.', label='Actual Life Span')\n",
    "plt.plot(X_data['month'][0:60], y_pred.ravel()[0:60], color = 'blue', linestyle='-', marker='.', label='Predicted Life Span')\n",
    "plt.axvline(x=np.where(y_normal==1)[0][0], color='orange', label='Actual month of failure')\n",
    "plt.axvline(x=np.where(y_pred>0.99)[0][0], color='red', label='Predicted month of failure')        \n",
    "plt.xticks(np.arange(0, 61, 3))\n",
    "plt.yticks(np.arange(0, 1.05, 0.1))\n",
    "plt.title('Age (in months) vs Probability of Failure')\n",
    "plt.legend(loc='best')\n",
    "plt.xlabel('Age (in months)')\n",
    "plt.ylabel('Probability of Failure')\n",
    "plt.show()"
   ]
  },
  {
   "cell_type": "markdown",
   "metadata": {},
   "source": [
    "# Writing output to a new csv file"
   ]
  },
  {
   "cell_type": "code",
   "execution_count": null,
   "metadata": {},
   "outputs": [],
   "source": [
    "output_df = pd.DataFrame()\n",
    "output_df['Components'] = ['Fan Blades', 'Turbine', 'Fuel Filter', 'Low Pressure Fan (N1)', 'High Pressure Rotor (N2)', 'Turbine Failure']\n",
    "output_df['Actual life span under normal conditions(in months)'] = [str(np.where(X_normal['fp_noise'].values==100)[0][0] + 1), str(np.where(X_normal['fp_egt'].values==100)[0][0] + 1), str(np.where(X_normal['fp_ff'].values==100)[0][0] + 1), str(np.where(X_normal['fp_n1'].values==100)[0][0] + 1), str(np.where(X_normal['fp_n2'].values==100)[0][0] + 1), str(np.where(X_normal['failure_prob'].values==100)[0][0] + 1)]            \n",
    "output_df['Predicted life span after sudden increase(in months)'] = [str(np.where(y_pred_noise==100)[0][0]), str(np.where(y_pred_egt==100)[0][0]), str(np.where(y_pred_ff==100)[0][0]), str(np.where(y_pred_n1==100)[0][0]), str(np.where(y_pred_n2==100)[0][0]), str(np.where(X_normal['failure_prob'].values==100)[0][0])]  \n",
    "output_df"
   ]
  },
  {
   "cell_type": "code",
   "execution_count": null,
   "metadata": {},
   "outputs": [],
   "source": []
  }
 ],
 "metadata": {
  "kernelspec": {
   "display_name": "Python 3",
   "language": "python",
   "name": "python3"
  },
  "language_info": {
   "codemirror_mode": {
    "name": "ipython",
    "version": 3
   },
   "file_extension": ".py",
   "mimetype": "text/x-python",
   "name": "python",
   "nbconvert_exporter": "python",
   "pygments_lexer": "ipython3",
   "version": "3.6.5"
  }
 },
 "nbformat": 4,
 "nbformat_minor": 2
}
